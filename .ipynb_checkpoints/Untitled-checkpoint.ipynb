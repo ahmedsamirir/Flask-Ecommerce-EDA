{
 "cells": [
  {
   "cell_type": "code",
   "execution_count": 1,
   "id": "40608031",
   "metadata": {},
   "outputs": [
    {
     "ename": "SyntaxError",
     "evalue": "invalid syntax (3484787971.py, line 4)",
     "output_type": "error",
     "traceback": [
      "\u001b[1;36m  Cell \u001b[1;32mIn[1], line 4\u001b[1;36m\u001b[0m\n\u001b[1;33m    pip install mysql-connector-python\u001b[0m\n\u001b[1;37m        ^\u001b[0m\n\u001b[1;31mSyntaxError\u001b[0m\u001b[1;31m:\u001b[0m invalid syntax\n"
     ]
    }
   ],
   "source": [
    "#### Python script to import the data in MySQL database ####\n",
    "\n",
    "# First we need to install mysql-connector-python\n",
    "pip install mysql-connector-python"
   ]
  },
  {
   "cell_type": "code",
   "execution_count": 2,
   "id": "0d5ddf47",
   "metadata": {},
   "outputs": [],
   "source": [
    "# Import the mysql.connector library\n",
    "import mysql.connector\n",
    "\n",
    "# Assign the database details\n",
    "host = 'localhost'\n",
    "user = 'root'\n",
    "password = 'MaxTechn0'\n",
    "database = 'EcommerceStore'"
   ]
  },
  {
   "cell_type": "code",
   "execution_count": 3,
   "id": "7b5e9381",
   "metadata": {},
   "outputs": [],
   "source": [
    "# Establish a connection to the MySQL server\n",
    "connection = mysql.connector.connect(\n",
    "    host=host,\n",
    "    user=user,\n",
    "    password=password,\n",
    "    database=database\n",
    ")"
   ]
  },
  {
   "cell_type": "code",
   "execution_count": 4,
   "id": "552656f8",
   "metadata": {},
   "outputs": [],
   "source": [
    "# Create a cursor object to interact with the database\n",
    "cursor = connection.cursor()"
   ]
  },
  {
   "cell_type": "code",
   "execution_count": null,
   "id": "66662e58",
   "metadata": {},
   "outputs": [],
   "source": [
    "# Set the table and data file path\n",
    "table_name = 'Orders'\n",
    "csv_file_path = 'C:\\Users\\egahm\\Chefaa Data Scientist Assessment\\Dataset\\Orders.csv'\n",
    "\n",
    "# Open the CSV file and read data\n",
    "with open(csv_file_path, 'r') as csv_file:\n",
    "    csv_reader = csv.reader(csv_file)\n",
    "\n",
    "    # Skip the header if present\n",
    "    next(csv_reader)\n",
    "\n",
    "    # SQL query to insert data into the table\n",
    "    insert_query = f\"INSERT INTO {table_name} (column1, column2, column3) VALUES (%s, %s, %s)\"\n",
    "\n",
    "    # Iterate through each row in the CSV file and insert data into the table\n",
    "    for row in csv_reader:\n",
    "        # Modify this line based on your CSV column order and data types\n",
    "        data_to_insert = (row[0], row[1], row[2])"
   ]
  },
  {
   "cell_type": "code",
   "execution_count": null,
   "id": "54426938",
   "metadata": {},
   "outputs": [],
   "source": []
  }
 ],
 "metadata": {
  "kernelspec": {
   "display_name": "Python 3 (ipykernel)",
   "language": "python",
   "name": "python3"
  },
  "language_info": {
   "codemirror_mode": {
    "name": "ipython",
    "version": 3
   },
   "file_extension": ".py",
   "mimetype": "text/x-python",
   "name": "python",
   "nbconvert_exporter": "python",
   "pygments_lexer": "ipython3",
   "version": "3.9.16"
  }
 },
 "nbformat": 4,
 "nbformat_minor": 5
}
